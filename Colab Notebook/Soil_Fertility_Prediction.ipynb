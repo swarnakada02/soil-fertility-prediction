{
 "cells": [
  {
   "cell_type": "markdown",
   "metadata": {
    "id": "yky1h4m6-Wfk"
   },
   "source": [
    " <h1>Including Necessary libraries</h1>"
   ]
  },
  {
   "cell_type": "code",
   "execution_count": 16,
   "metadata": {
    "id": "EHkgrJlA-fiJ"
   },
   "outputs": [],
   "source": [
    "import numpy as np\n",
    "import pandas as pd\n",
    "import matplotlib.pyplot as plt\n",
    "import pickle"
   ]
  },
  {
   "cell_type": "markdown",
   "metadata": {
    "id": "MGznq8fX-y5x"
   },
   "source": [
    "<h1>Importing Dataset</h1>"
   ]
  },
  {
   "cell_type": "code",
   "execution_count": 18,
   "metadata": {
    "colab": {
     "base_uri": "https://localhost:8080/",
     "height": 932
    },
    "id": "Yztrk9Sm_LeL",
    "outputId": "c2df44e7-4656-4ad2-d490-edd8d5de1d28"
   },
   "outputs": [
    {
     "data": {
      "text/html": [
       "<div>\n",
       "<style scoped>\n",
       "    .dataframe tbody tr th:only-of-type {\n",
       "        vertical-align: middle;\n",
       "    }\n",
       "\n",
       "    .dataframe tbody tr th {\n",
       "        vertical-align: top;\n",
       "    }\n",
       "\n",
       "    .dataframe thead th {\n",
       "        text-align: right;\n",
       "    }\n",
       "</style>\n",
       "<table border=\"1\" class=\"dataframe\">\n",
       "  <thead>\n",
       "    <tr style=\"text-align: right;\">\n",
       "      <th></th>\n",
       "      <th>0</th>\n",
       "      <th>1</th>\n",
       "      <th>2</th>\n",
       "      <th>3</th>\n",
       "      <th>4</th>\n",
       "      <th>5</th>\n",
       "      <th>6</th>\n",
       "      <th>7</th>\n",
       "      <th>8</th>\n",
       "      <th>9</th>\n",
       "      <th>...</th>\n",
       "      <th>15</th>\n",
       "      <th>16</th>\n",
       "      <th>17</th>\n",
       "      <th>18</th>\n",
       "      <th>19</th>\n",
       "      <th>20</th>\n",
       "      <th>21</th>\n",
       "      <th>22</th>\n",
       "      <th>23</th>\n",
       "      <th>24</th>\n",
       "    </tr>\n",
       "  </thead>\n",
       "  <tbody>\n",
       "    <tr>\n",
       "      <th>0</th>\n",
       "      <td>Metadata - Soils Collection and Lab (Kuo) Anal...</td>\n",
       "      <td>NaN</td>\n",
       "      <td>NaN</td>\n",
       "      <td>NaN</td>\n",
       "      <td>NaN</td>\n",
       "      <td>NaN</td>\n",
       "      <td>NaN</td>\n",
       "      <td>NaN</td>\n",
       "      <td>NaN</td>\n",
       "      <td>NaN</td>\n",
       "      <td>...</td>\n",
       "      <td>NaN</td>\n",
       "      <td>NaN</td>\n",
       "      <td>NaN</td>\n",
       "      <td>NaN</td>\n",
       "      <td>NaN</td>\n",
       "      <td>NaN</td>\n",
       "      <td>NaN</td>\n",
       "      <td>NaN</td>\n",
       "      <td>NaN</td>\n",
       "      <td>NaN</td>\n",
       "    </tr>\n",
       "    <tr>\n",
       "      <th>1</th>\n",
       "      <td>Sample</td>\n",
       "      <td>DIR.</td>\n",
       "      <td>INT/EXT</td>\n",
       "      <td>Sub- Sample #</td>\n",
       "      <td>Date</td>\n",
       "      <td>Time</td>\n",
       "      <td>Latitude</td>\n",
       "      <td>Longitude</td>\n",
       "      <td>Slope</td>\n",
       "      <td>Aspect</td>\n",
       "      <td>...</td>\n",
       "      <td>SO4-S    (ppm)</td>\n",
       "      <td>B (ppm)</td>\n",
       "      <td>Organic Matter %</td>\n",
       "      <td>pH</td>\n",
       "      <td>Zn  (ppm)</td>\n",
       "      <td>Cu  (ppm)</td>\n",
       "      <td>Fe  (ppm)</td>\n",
       "      <td>Ca (meq/100g)</td>\n",
       "      <td>Mg (meq/100g)</td>\n",
       "      <td>Na (meq/100g)</td>\n",
       "    </tr>\n",
       "    <tr>\n",
       "      <th>2</th>\n",
       "      <td>1</td>\n",
       "      <td>NW</td>\n",
       "      <td>INT</td>\n",
       "      <td>1</td>\n",
       "      <td>2012-06-04 00:00:00</td>\n",
       "      <td>13:50:00</td>\n",
       "      <td>N25.77485</td>\n",
       "      <td>W171.73539</td>\n",
       "      <td>2</td>\n",
       "      <td>92</td>\n",
       "      <td>...</td>\n",
       "      <td>12</td>\n",
       "      <td>0.71</td>\n",
       "      <td>0.96</td>\n",
       "      <td>7.8</td>\n",
       "      <td>1.7</td>\n",
       "      <td>0.3</td>\n",
       "      <td>4</td>\n",
       "      <td>6.6</td>\n",
       "      <td>0.8</td>\n",
       "      <td>0.12</td>\n",
       "    </tr>\n",
       "    <tr>\n",
       "      <th>3</th>\n",
       "      <td>2</td>\n",
       "      <td>NW</td>\n",
       "      <td>INT</td>\n",
       "      <td>2</td>\n",
       "      <td>2012-06-04 00:00:00</td>\n",
       "      <td>14:43:00</td>\n",
       "      <td>N25.77774</td>\n",
       "      <td>W171.73643</td>\n",
       "      <td>1</td>\n",
       "      <td>167</td>\n",
       "      <td>...</td>\n",
       "      <td>7</td>\n",
       "      <td>0.27</td>\n",
       "      <td>0.3</td>\n",
       "      <td>8.2</td>\n",
       "      <td>0.8</td>\n",
       "      <td>0.1</td>\n",
       "      <td>1</td>\n",
       "      <td>5</td>\n",
       "      <td>0.5</td>\n",
       "      <td>0.07</td>\n",
       "    </tr>\n",
       "    <tr>\n",
       "      <th>4</th>\n",
       "      <td>3</td>\n",
       "      <td>NW</td>\n",
       "      <td>INT</td>\n",
       "      <td>3</td>\n",
       "      <td>2012-06-04 00:00:00</td>\n",
       "      <td>14:10:00</td>\n",
       "      <td>N25.77628</td>\n",
       "      <td>W171.73480</td>\n",
       "      <td>5</td>\n",
       "      <td>75</td>\n",
       "      <td>...</td>\n",
       "      <td>10</td>\n",
       "      <td>0.56</td>\n",
       "      <td>0.62</td>\n",
       "      <td>7.9</td>\n",
       "      <td>1.4</td>\n",
       "      <td>0.2</td>\n",
       "      <td>2</td>\n",
       "      <td>5.2</td>\n",
       "      <td>0.4</td>\n",
       "      <td>0.04</td>\n",
       "    </tr>\n",
       "    <tr>\n",
       "      <th>...</th>\n",
       "      <td>...</td>\n",
       "      <td>...</td>\n",
       "      <td>...</td>\n",
       "      <td>...</td>\n",
       "      <td>...</td>\n",
       "      <td>...</td>\n",
       "      <td>...</td>\n",
       "      <td>...</td>\n",
       "      <td>...</td>\n",
       "      <td>...</td>\n",
       "      <td>...</td>\n",
       "      <td>...</td>\n",
       "      <td>...</td>\n",
       "      <td>...</td>\n",
       "      <td>...</td>\n",
       "      <td>...</td>\n",
       "      <td>...</td>\n",
       "      <td>...</td>\n",
       "      <td>...</td>\n",
       "      <td>...</td>\n",
       "      <td>...</td>\n",
       "    </tr>\n",
       "    <tr>\n",
       "      <th>417</th>\n",
       "      <td>Longitude</td>\n",
       "      <td>Longitude for sample location in decimal degrees</td>\n",
       "      <td>NaN</td>\n",
       "      <td>NaN</td>\n",
       "      <td>NaN</td>\n",
       "      <td>NaN</td>\n",
       "      <td>NaN</td>\n",
       "      <td>NaN</td>\n",
       "      <td>NaN</td>\n",
       "      <td>NaN</td>\n",
       "      <td>...</td>\n",
       "      <td>NaN</td>\n",
       "      <td>NaN</td>\n",
       "      <td>NaN</td>\n",
       "      <td>NaN</td>\n",
       "      <td>NaN</td>\n",
       "      <td>NaN</td>\n",
       "      <td>NaN</td>\n",
       "      <td>NaN</td>\n",
       "      <td>NaN</td>\n",
       "      <td>NaN</td>\n",
       "    </tr>\n",
       "    <tr>\n",
       "      <th>418</th>\n",
       "      <td>Slope</td>\n",
       "      <td>Slope of the ground at sample location, in deg...</td>\n",
       "      <td>NaN</td>\n",
       "      <td>NaN</td>\n",
       "      <td>NaN</td>\n",
       "      <td>NaN</td>\n",
       "      <td>NaN</td>\n",
       "      <td>NaN</td>\n",
       "      <td>NaN</td>\n",
       "      <td>NaN</td>\n",
       "      <td>...</td>\n",
       "      <td>NaN</td>\n",
       "      <td>NaN</td>\n",
       "      <td>NaN</td>\n",
       "      <td>NaN</td>\n",
       "      <td>NaN</td>\n",
       "      <td>NaN</td>\n",
       "      <td>NaN</td>\n",
       "      <td>NaN</td>\n",
       "      <td>NaN</td>\n",
       "      <td>NaN</td>\n",
       "    </tr>\n",
       "    <tr>\n",
       "      <th>419</th>\n",
       "      <td>Aspect</td>\n",
       "      <td>Directoin the slope face at sample location, i...</td>\n",
       "      <td>NaN</td>\n",
       "      <td>NaN</td>\n",
       "      <td>NaN</td>\n",
       "      <td>NaN</td>\n",
       "      <td>NaN</td>\n",
       "      <td>NaN</td>\n",
       "      <td>NaN</td>\n",
       "      <td>NaN</td>\n",
       "      <td>...</td>\n",
       "      <td>NaN</td>\n",
       "      <td>NaN</td>\n",
       "      <td>NaN</td>\n",
       "      <td>NaN</td>\n",
       "      <td>NaN</td>\n",
       "      <td>NaN</td>\n",
       "      <td>NaN</td>\n",
       "      <td>NaN</td>\n",
       "      <td>NaN</td>\n",
       "      <td>NaN</td>\n",
       "    </tr>\n",
       "    <tr>\n",
       "      <th>420</th>\n",
       "      <td>% Veg. Cover</td>\n",
       "      <td>Percent vegetative cover of the 102m area surr...</td>\n",
       "      <td>NaN</td>\n",
       "      <td>NaN</td>\n",
       "      <td>NaN</td>\n",
       "      <td>NaN</td>\n",
       "      <td>NaN</td>\n",
       "      <td>NaN</td>\n",
       "      <td>NaN</td>\n",
       "      <td>NaN</td>\n",
       "      <td>...</td>\n",
       "      <td>NaN</td>\n",
       "      <td>NaN</td>\n",
       "      <td>NaN</td>\n",
       "      <td>NaN</td>\n",
       "      <td>NaN</td>\n",
       "      <td>NaN</td>\n",
       "      <td>NaN</td>\n",
       "      <td>NaN</td>\n",
       "      <td>NaN</td>\n",
       "      <td>NaN</td>\n",
       "    </tr>\n",
       "    <tr>\n",
       "      <th>421</th>\n",
       "      <td>Remainder of Headings</td>\n",
       "      <td>Testing parameters</td>\n",
       "      <td>NaN</td>\n",
       "      <td>NaN</td>\n",
       "      <td>NaN</td>\n",
       "      <td>NaN</td>\n",
       "      <td>NaN</td>\n",
       "      <td>NaN</td>\n",
       "      <td>NaN</td>\n",
       "      <td>NaN</td>\n",
       "      <td>...</td>\n",
       "      <td>NaN</td>\n",
       "      <td>NaN</td>\n",
       "      <td>NaN</td>\n",
       "      <td>NaN</td>\n",
       "      <td>NaN</td>\n",
       "      <td>NaN</td>\n",
       "      <td>NaN</td>\n",
       "      <td>NaN</td>\n",
       "      <td>NaN</td>\n",
       "      <td>NaN</td>\n",
       "    </tr>\n",
       "  </tbody>\n",
       "</table>\n",
       "<p>422 rows × 25 columns</p>\n",
       "</div>"
      ],
      "text/plain": [
       "                                                    0   \\\n",
       "0    Metadata - Soils Collection and Lab (Kuo) Anal...   \n",
       "1                                              Sample    \n",
       "2                                                    1   \n",
       "3                                                    2   \n",
       "4                                                    3   \n",
       "..                                                 ...   \n",
       "417                                          Longitude   \n",
       "418                                              Slope   \n",
       "419                                             Aspect   \n",
       "420                                       % Veg. Cover   \n",
       "421                              Remainder of Headings   \n",
       "\n",
       "                                                    1        2   \\\n",
       "0                                                  NaN      NaN   \n",
       "1                                                 DIR.  INT/EXT   \n",
       "2                                                   NW      INT   \n",
       "3                                                   NW     INT    \n",
       "4                                                   NW     INT    \n",
       "..                                                 ...      ...   \n",
       "417   Longitude for sample location in decimal degrees      NaN   \n",
       "418  Slope of the ground at sample location, in deg...      NaN   \n",
       "419  Directoin the slope face at sample location, i...      NaN   \n",
       "420  Percent vegetative cover of the 102m area surr...      NaN   \n",
       "421                                 Testing parameters      NaN   \n",
       "\n",
       "                3                    4         5           6           7   \\\n",
       "0              NaN                  NaN       NaN         NaN         NaN   \n",
       "1    Sub- Sample #                 Date      Time    Latitude   Longitude   \n",
       "2                1  2012-06-04 00:00:00  13:50:00  N25.77485   W171.73539   \n",
       "3                2  2012-06-04 00:00:00  14:43:00  N25.77774   W171.73643   \n",
       "4                3  2012-06-04 00:00:00  14:10:00  N25.77628   W171.73480   \n",
       "..             ...                  ...       ...         ...         ...   \n",
       "417            NaN                  NaN       NaN         NaN         NaN   \n",
       "418            NaN                  NaN       NaN         NaN         NaN   \n",
       "419            NaN                  NaN       NaN         NaN         NaN   \n",
       "420            NaN                  NaN       NaN         NaN         NaN   \n",
       "421            NaN                  NaN       NaN         NaN         NaN   \n",
       "\n",
       "        8       9   ...              15       16                17   18  \\\n",
       "0      NaN     NaN  ...             NaN      NaN               NaN  NaN   \n",
       "1    Slope  Aspect  ...  SO4-S    (ppm)  B (ppm)  Organic Matter %   pH   \n",
       "2        2      92  ...              12     0.71              0.96  7.8   \n",
       "3        1     167  ...               7     0.27               0.3  8.2   \n",
       "4        5      75  ...              10     0.56              0.62  7.9   \n",
       "..     ...     ...  ...             ...      ...               ...  ...   \n",
       "417    NaN     NaN  ...             NaN      NaN               NaN  NaN   \n",
       "418    NaN     NaN  ...             NaN      NaN               NaN  NaN   \n",
       "419    NaN     NaN  ...             NaN      NaN               NaN  NaN   \n",
       "420    NaN     NaN  ...             NaN      NaN               NaN  NaN   \n",
       "421    NaN     NaN  ...             NaN      NaN               NaN  NaN   \n",
       "\n",
       "            19         20         21              22             23  \\\n",
       "0          NaN        NaN        NaN             NaN            NaN   \n",
       "1    Zn  (ppm)  Cu  (ppm)  Fe  (ppm)  Ca (meq/100g)   Mg (meq/100g)   \n",
       "2          1.7        0.3          4             6.6            0.8   \n",
       "3          0.8        0.1          1               5            0.5   \n",
       "4          1.4        0.2          2             5.2            0.4   \n",
       "..         ...        ...        ...             ...            ...   \n",
       "417        NaN        NaN        NaN             NaN            NaN   \n",
       "418        NaN        NaN        NaN             NaN            NaN   \n",
       "419        NaN        NaN        NaN             NaN            NaN   \n",
       "420        NaN        NaN        NaN             NaN            NaN   \n",
       "421        NaN        NaN        NaN             NaN            NaN   \n",
       "\n",
       "                24  \n",
       "0              NaN  \n",
       "1    Na (meq/100g)  \n",
       "2             0.12  \n",
       "3             0.07  \n",
       "4             0.04  \n",
       "..             ...  \n",
       "417            NaN  \n",
       "418            NaN  \n",
       "419            NaN  \n",
       "420            NaN  \n",
       "421            NaN  \n",
       "\n",
       "[422 rows x 25 columns]"
      ]
     },
     "execution_count": 18,
     "metadata": {},
     "output_type": "execute_result"
    }
   ],
   "source": [
    "# reading data from excel sheet\n",
    "soil_data = pd.read_excel('../soil_data.xlsx',header=None)\n",
    "\n",
    "# Viewing first few rows of dataset\n",
    "soil_data"
   ]
  },
  {
   "cell_type": "markdown",
   "metadata": {
    "id": "zw5HHXWbDk_d"
   },
   "source": [
    "<h1>Preprocessing Data</h1>"
   ]
  },
  {
   "cell_type": "code",
   "execution_count": 19,
   "metadata": {
    "colab": {
     "base_uri": "https://localhost:8080/",
     "height": 200
    },
    "id": "1Gz8NoWgDpQq",
    "outputId": "8fb8d14e-505b-48dd-a159-b583b984e30e"
   },
   "outputs": [
    {
     "data": {
      "text/html": [
       "<div>\n",
       "<style scoped>\n",
       "    .dataframe tbody tr th:only-of-type {\n",
       "        vertical-align: middle;\n",
       "    }\n",
       "\n",
       "    .dataframe tbody tr th {\n",
       "        vertical-align: top;\n",
       "    }\n",
       "\n",
       "    .dataframe thead th {\n",
       "        text-align: right;\n",
       "    }\n",
       "</style>\n",
       "<table border=\"1\" class=\"dataframe\">\n",
       "  <thead>\n",
       "    <tr style=\"text-align: right;\">\n",
       "      <th></th>\n",
       "      <th>Vegetation Cover</th>\n",
       "      <th>NO3</th>\n",
       "      <th>NH4</th>\n",
       "      <th>P</th>\n",
       "      <th>K</th>\n",
       "      <th>SO4</th>\n",
       "      <th>B</th>\n",
       "      <th>Organic Matter</th>\n",
       "      <th>pH</th>\n",
       "      <th>Zn</th>\n",
       "      <th>Cu</th>\n",
       "      <th>Fe</th>\n",
       "      <th>Ca</th>\n",
       "      <th>Mg</th>\n",
       "      <th>Na</th>\n",
       "    </tr>\n",
       "  </thead>\n",
       "  <tbody>\n",
       "    <tr>\n",
       "      <th>0</th>\n",
       "      <td>100</td>\n",
       "      <td>23</td>\n",
       "      <td>2.25</td>\n",
       "      <td>101</td>\n",
       "      <td>32</td>\n",
       "      <td>12</td>\n",
       "      <td>0.71</td>\n",
       "      <td>0.96</td>\n",
       "      <td>7.8</td>\n",
       "      <td>1.7</td>\n",
       "      <td>0.3</td>\n",
       "      <td>4</td>\n",
       "      <td>6.6</td>\n",
       "      <td>0.8</td>\n",
       "      <td>0.12</td>\n",
       "    </tr>\n",
       "    <tr>\n",
       "      <th>1</th>\n",
       "      <td>95</td>\n",
       "      <td>6</td>\n",
       "      <td>0.75</td>\n",
       "      <td>58</td>\n",
       "      <td>10</td>\n",
       "      <td>7</td>\n",
       "      <td>0.27</td>\n",
       "      <td>0.3</td>\n",
       "      <td>8.2</td>\n",
       "      <td>0.8</td>\n",
       "      <td>0.1</td>\n",
       "      <td>1</td>\n",
       "      <td>5</td>\n",
       "      <td>0.5</td>\n",
       "      <td>0.07</td>\n",
       "    </tr>\n",
       "    <tr>\n",
       "      <th>2</th>\n",
       "      <td>98</td>\n",
       "      <td>7.25</td>\n",
       "      <td>1</td>\n",
       "      <td>115</td>\n",
       "      <td>8</td>\n",
       "      <td>10</td>\n",
       "      <td>0.56</td>\n",
       "      <td>0.62</td>\n",
       "      <td>7.9</td>\n",
       "      <td>1.4</td>\n",
       "      <td>0.2</td>\n",
       "      <td>2</td>\n",
       "      <td>5.2</td>\n",
       "      <td>0.4</td>\n",
       "      <td>0.04</td>\n",
       "    </tr>\n",
       "    <tr>\n",
       "      <th>3</th>\n",
       "      <td>100</td>\n",
       "      <td>21</td>\n",
       "      <td>1.25</td>\n",
       "      <td>130</td>\n",
       "      <td>30</td>\n",
       "      <td>13</td>\n",
       "      <td>0.78</td>\n",
       "      <td>1.04</td>\n",
       "      <td>7.9</td>\n",
       "      <td>1.8</td>\n",
       "      <td>0.3</td>\n",
       "      <td>2</td>\n",
       "      <td>6.1</td>\n",
       "      <td>0.7</td>\n",
       "      <td>0.1</td>\n",
       "    </tr>\n",
       "    <tr>\n",
       "      <th>4</th>\n",
       "      <td>15</td>\n",
       "      <td>1.75</td>\n",
       "      <td>0.5</td>\n",
       "      <td>17</td>\n",
       "      <td>4</td>\n",
       "      <td>6</td>\n",
       "      <td>0.25</td>\n",
       "      <td>0.1</td>\n",
       "      <td>8.8</td>\n",
       "      <td>0.3</td>\n",
       "      <td>0.1</td>\n",
       "      <td>1</td>\n",
       "      <td>4.7</td>\n",
       "      <td>0.5</td>\n",
       "      <td>0.1</td>\n",
       "    </tr>\n",
       "  </tbody>\n",
       "</table>\n",
       "</div>"
      ],
      "text/plain": [
       "  Vegetation Cover   NO3   NH4    P   K SO4     B Organic Matter   pH   Zn  \\\n",
       "0              100    23  2.25  101  32  12  0.71           0.96  7.8  1.7   \n",
       "1               95     6  0.75   58  10   7  0.27            0.3  8.2  0.8   \n",
       "2               98  7.25     1  115   8  10  0.56           0.62  7.9  1.4   \n",
       "3              100    21  1.25  130  30  13  0.78           1.04  7.9  1.8   \n",
       "4               15  1.75   0.5   17   4   6  0.25            0.1  8.8  0.3   \n",
       "\n",
       "    Cu Fe   Ca   Mg    Na  \n",
       "0  0.3  4  6.6  0.8  0.12  \n",
       "1  0.1  1    5  0.5  0.07  \n",
       "2  0.2  2  5.2  0.4  0.04  \n",
       "3  0.3  2  6.1  0.7   0.1  \n",
       "4  0.1  1  4.7  0.5   0.1  "
      ]
     },
     "execution_count": 19,
     "metadata": {},
     "output_type": "execute_result"
    }
   ],
   "source": [
    "# removing unnecessary columns and rows that do not contains data\n",
    "soil_data = soil_data.drop(np.arange(410,422),axis=0)\n",
    "soil_data = soil_data.drop([0,1],axis=0)\n",
    "soil_data = soil_data.drop(np.arange(0,10),axis=1)\n",
    "\n",
    "#renaming column names and units of each attributes\n",
    "column_names = ['Vegetation Cover','NO3','NH4','P','K','SO4',\n",
    "                'B','Organic Matter','pH','Zn','Cu','Fe','Ca','Mg','Na']\n",
    "attribute_units = ['%age','ppm','ppm','ppm','ppm','ppm','ppm',\n",
    "                \"%age\",'pH','ppm','ppm','ppm','meq/100g','meq/100g','meq/100g']\n",
    "\n",
    "\n",
    "#assuring length of column and attribute_units is same\n",
    "assert(len(attribute_units) == len(column_names))\n",
    "\n",
    "\n",
    "#creating new dataframe with column name\n",
    "soil_data = pd.DataFrame(soil_data.values,columns=column_names)\n",
    "\n",
    "#viewing final data frame\n",
    "soil_data.head()"
   ]
  },
  {
   "cell_type": "code",
   "execution_count": 20,
   "metadata": {
    "colab": {
     "base_uri": "https://localhost:8080/"
    },
    "id": "OhkcIfjDrreG",
    "outputId": "48e6de96-5210-475d-fd1f-250b22710648"
   },
   "outputs": [
    {
     "data": {
      "text/plain": [
       "Vegetation Cover    13\n",
       "NO3                 14\n",
       "NH4                  3\n",
       "P                    6\n",
       "K                    5\n",
       "SO4                  1\n",
       "B                    3\n",
       "Organic Matter       2\n",
       "pH                   3\n",
       "Zn                   5\n",
       "Cu                   1\n",
       "Fe                   1\n",
       "Ca                   2\n",
       "Mg                   0\n",
       "Na                   6\n",
       "dtype: int64"
      ]
     },
     "execution_count": 20,
     "metadata": {},
     "output_type": "execute_result"
    }
   ],
   "source": [
    "soil_data.isna().sum()"
   ]
  },
  {
   "cell_type": "code",
   "execution_count": 21,
   "metadata": {
    "colab": {
     "base_uri": "https://localhost:8080/",
     "height": 408
    },
    "id": "ItoLicAErgIB",
    "outputId": "bfbc5239-8faa-4e23-fd23-13108640804d"
   },
   "outputs": [
    {
     "data": {
      "text/html": [
       "<div>\n",
       "<style scoped>\n",
       "    .dataframe tbody tr th:only-of-type {\n",
       "        vertical-align: middle;\n",
       "    }\n",
       "\n",
       "    .dataframe tbody tr th {\n",
       "        vertical-align: top;\n",
       "    }\n",
       "\n",
       "    .dataframe thead th {\n",
       "        text-align: right;\n",
       "    }\n",
       "</style>\n",
       "<table border=\"1\" class=\"dataframe\">\n",
       "  <thead>\n",
       "    <tr style=\"text-align: right;\">\n",
       "      <th></th>\n",
       "      <th>Vegetation Cover</th>\n",
       "      <th>NO3</th>\n",
       "      <th>NH4</th>\n",
       "      <th>P</th>\n",
       "      <th>K</th>\n",
       "      <th>SO4</th>\n",
       "      <th>B</th>\n",
       "      <th>Organic Matter</th>\n",
       "      <th>pH</th>\n",
       "      <th>Zn</th>\n",
       "      <th>Cu</th>\n",
       "      <th>Fe</th>\n",
       "      <th>Ca</th>\n",
       "      <th>Mg</th>\n",
       "      <th>Na</th>\n",
       "    </tr>\n",
       "  </thead>\n",
       "  <tbody>\n",
       "    <tr>\n",
       "      <th>0</th>\n",
       "      <td>100</td>\n",
       "      <td>23.00</td>\n",
       "      <td>2.25</td>\n",
       "      <td>101</td>\n",
       "      <td>32</td>\n",
       "      <td>12</td>\n",
       "      <td>0.71</td>\n",
       "      <td>0.96</td>\n",
       "      <td>7.8</td>\n",
       "      <td>1.7</td>\n",
       "      <td>0.3</td>\n",
       "      <td>4</td>\n",
       "      <td>6.6</td>\n",
       "      <td>0.8</td>\n",
       "      <td>0.12</td>\n",
       "    </tr>\n",
       "    <tr>\n",
       "      <th>1</th>\n",
       "      <td>95</td>\n",
       "      <td>6.00</td>\n",
       "      <td>0.75</td>\n",
       "      <td>58</td>\n",
       "      <td>10</td>\n",
       "      <td>7</td>\n",
       "      <td>0.27</td>\n",
       "      <td>0.30</td>\n",
       "      <td>8.2</td>\n",
       "      <td>0.8</td>\n",
       "      <td>0.1</td>\n",
       "      <td>1</td>\n",
       "      <td>5.0</td>\n",
       "      <td>0.5</td>\n",
       "      <td>0.07</td>\n",
       "    </tr>\n",
       "    <tr>\n",
       "      <th>2</th>\n",
       "      <td>98</td>\n",
       "      <td>7.25</td>\n",
       "      <td>1.00</td>\n",
       "      <td>115</td>\n",
       "      <td>8</td>\n",
       "      <td>10</td>\n",
       "      <td>0.56</td>\n",
       "      <td>0.62</td>\n",
       "      <td>7.9</td>\n",
       "      <td>1.4</td>\n",
       "      <td>0.2</td>\n",
       "      <td>2</td>\n",
       "      <td>5.2</td>\n",
       "      <td>0.4</td>\n",
       "      <td>0.04</td>\n",
       "    </tr>\n",
       "    <tr>\n",
       "      <th>3</th>\n",
       "      <td>100</td>\n",
       "      <td>21.00</td>\n",
       "      <td>1.25</td>\n",
       "      <td>130</td>\n",
       "      <td>30</td>\n",
       "      <td>13</td>\n",
       "      <td>0.78</td>\n",
       "      <td>1.04</td>\n",
       "      <td>7.9</td>\n",
       "      <td>1.8</td>\n",
       "      <td>0.3</td>\n",
       "      <td>2</td>\n",
       "      <td>6.1</td>\n",
       "      <td>0.7</td>\n",
       "      <td>0.10</td>\n",
       "    </tr>\n",
       "    <tr>\n",
       "      <th>4</th>\n",
       "      <td>15</td>\n",
       "      <td>1.75</td>\n",
       "      <td>0.50</td>\n",
       "      <td>17</td>\n",
       "      <td>4</td>\n",
       "      <td>6</td>\n",
       "      <td>0.25</td>\n",
       "      <td>0.10</td>\n",
       "      <td>8.8</td>\n",
       "      <td>0.3</td>\n",
       "      <td>0.1</td>\n",
       "      <td>1</td>\n",
       "      <td>4.7</td>\n",
       "      <td>0.5</td>\n",
       "      <td>0.10</td>\n",
       "    </tr>\n",
       "    <tr>\n",
       "      <th>...</th>\n",
       "      <td>...</td>\n",
       "      <td>...</td>\n",
       "      <td>...</td>\n",
       "      <td>...</td>\n",
       "      <td>...</td>\n",
       "      <td>...</td>\n",
       "      <td>...</td>\n",
       "      <td>...</td>\n",
       "      <td>...</td>\n",
       "      <td>...</td>\n",
       "      <td>...</td>\n",
       "      <td>...</td>\n",
       "      <td>...</td>\n",
       "      <td>...</td>\n",
       "      <td>...</td>\n",
       "    </tr>\n",
       "    <tr>\n",
       "      <th>403</th>\n",
       "      <td>35</td>\n",
       "      <td>16.50</td>\n",
       "      <td>1.25</td>\n",
       "      <td>61</td>\n",
       "      <td>21</td>\n",
       "      <td>9</td>\n",
       "      <td>0.37</td>\n",
       "      <td>0.64</td>\n",
       "      <td>7.8</td>\n",
       "      <td>0.9</td>\n",
       "      <td>0.2</td>\n",
       "      <td>1</td>\n",
       "      <td>4.9</td>\n",
       "      <td>0.4</td>\n",
       "      <td>0.12</td>\n",
       "    </tr>\n",
       "    <tr>\n",
       "      <th>404</th>\n",
       "      <td>35</td>\n",
       "      <td>8.00</td>\n",
       "      <td>2.25</td>\n",
       "      <td>61</td>\n",
       "      <td>7</td>\n",
       "      <td>6</td>\n",
       "      <td>0.28</td>\n",
       "      <td>0.82</td>\n",
       "      <td>8.0</td>\n",
       "      <td>0.8</td>\n",
       "      <td>0.2</td>\n",
       "      <td>1</td>\n",
       "      <td>5.1</td>\n",
       "      <td>0.3</td>\n",
       "      <td>0.10</td>\n",
       "    </tr>\n",
       "    <tr>\n",
       "      <th>405</th>\n",
       "      <td>35</td>\n",
       "      <td>3.75</td>\n",
       "      <td>1.25</td>\n",
       "      <td>51</td>\n",
       "      <td>5</td>\n",
       "      <td>5</td>\n",
       "      <td>0.14</td>\n",
       "      <td>0.54</td>\n",
       "      <td>8.2</td>\n",
       "      <td>0.4</td>\n",
       "      <td>0.1</td>\n",
       "      <td>1</td>\n",
       "      <td>5.0</td>\n",
       "      <td>0.3</td>\n",
       "      <td>0.09</td>\n",
       "    </tr>\n",
       "    <tr>\n",
       "      <th>406</th>\n",
       "      <td>35</td>\n",
       "      <td>0.00</td>\n",
       "      <td>1.00</td>\n",
       "      <td>48</td>\n",
       "      <td>6</td>\n",
       "      <td>4</td>\n",
       "      <td>0.14</td>\n",
       "      <td>0.36</td>\n",
       "      <td>8.2</td>\n",
       "      <td>0.4</td>\n",
       "      <td>0.1</td>\n",
       "      <td>1</td>\n",
       "      <td>5.2</td>\n",
       "      <td>0.3</td>\n",
       "      <td>0.07</td>\n",
       "    </tr>\n",
       "    <tr>\n",
       "      <th>407</th>\n",
       "      <td>20</td>\n",
       "      <td>14.25</td>\n",
       "      <td>0.25</td>\n",
       "      <td>59</td>\n",
       "      <td>0</td>\n",
       "      <td>7</td>\n",
       "      <td>0.16</td>\n",
       "      <td>0.26</td>\n",
       "      <td>8.1</td>\n",
       "      <td>0.5</td>\n",
       "      <td>0.1</td>\n",
       "      <td>1</td>\n",
       "      <td>5.4</td>\n",
       "      <td>0.3</td>\n",
       "      <td>0.04</td>\n",
       "    </tr>\n",
       "  </tbody>\n",
       "</table>\n",
       "<p>408 rows × 15 columns</p>\n",
       "</div>"
      ],
      "text/plain": [
       "     Vegetation Cover    NO3   NH4    P   K  SO4     B  Organic Matter   pH  \\\n",
       "0                 100  23.00  2.25  101  32   12  0.71            0.96  7.8   \n",
       "1                  95   6.00  0.75   58  10    7  0.27            0.30  8.2   \n",
       "2                  98   7.25  1.00  115   8   10  0.56            0.62  7.9   \n",
       "3                 100  21.00  1.25  130  30   13  0.78            1.04  7.9   \n",
       "4                  15   1.75  0.50   17   4    6  0.25            0.10  8.8   \n",
       "..                ...    ...   ...  ...  ..  ...   ...             ...  ...   \n",
       "403                35  16.50  1.25   61  21    9  0.37            0.64  7.8   \n",
       "404                35   8.00  2.25   61   7    6  0.28            0.82  8.0   \n",
       "405                35   3.75  1.25   51   5    5  0.14            0.54  8.2   \n",
       "406                35   0.00  1.00   48   6    4  0.14            0.36  8.2   \n",
       "407                20  14.25  0.25   59   0    7  0.16            0.26  8.1   \n",
       "\n",
       "      Zn   Cu  Fe   Ca   Mg    Na  \n",
       "0    1.7  0.3   4  6.6  0.8  0.12  \n",
       "1    0.8  0.1   1  5.0  0.5  0.07  \n",
       "2    1.4  0.2   2  5.2  0.4  0.04  \n",
       "3    1.8  0.3   2  6.1  0.7  0.10  \n",
       "4    0.3  0.1   1  4.7  0.5  0.10  \n",
       "..   ...  ...  ..  ...  ...   ...  \n",
       "403  0.9  0.2   1  4.9  0.4  0.12  \n",
       "404  0.8  0.2   1  5.1  0.3  0.10  \n",
       "405  0.4  0.1   1  5.0  0.3  0.09  \n",
       "406  0.4  0.1   1  5.2  0.3  0.07  \n",
       "407  0.5  0.1   1  5.4  0.3  0.04  \n",
       "\n",
       "[408 rows x 15 columns]"
      ]
     },
     "execution_count": 21,
     "metadata": {},
     "output_type": "execute_result"
    }
   ],
   "source": [
    "soil_data.fillna(0)"
   ]
  },
  {
   "cell_type": "code",
   "execution_count": 22,
   "metadata": {
    "colab": {
     "base_uri": "https://localhost:8080/"
    },
    "id": "1RwrVVsBrqHw",
    "outputId": "4911fc40-0141-4abc-c7ea-f600f2fbeb26"
   },
   "outputs": [
    {
     "name": "stdout",
     "output_type": "stream",
     "text": [
      "Missing: 0\n"
     ]
    }
   ],
   "source": [
    "\n",
    "\n",
    "\n",
    "from numpy import nan\n",
    "from numpy import isnan\n",
    "from sklearn.impute import SimpleImputer\n",
    "imputer = SimpleImputer(missing_values=nan, strategy='median')\n",
    "# transform the dataset\n",
    "transformed_values = imputer.fit_transform(soil_data)\n",
    "# count the number of NaN values in each column\n",
    "print('Missing: %d' % isnan(transformed_values).sum())"
   ]
  },
  {
   "cell_type": "code",
   "execution_count": 23,
   "metadata": {
    "colab": {
     "base_uri": "https://localhost:8080/"
    },
    "id": "lAR3lejyttjQ",
    "outputId": "5131cd03-2ff3-4f36-c708-fbcf89d10b1c"
   },
   "outputs": [
    {
     "data": {
      "text/plain": [
       "Vegetation Cover    0\n",
       "NO3                 0\n",
       "NH4                 0\n",
       "P                   0\n",
       "K                   0\n",
       "SO4                 0\n",
       "B                   0\n",
       "Organic Matter      0\n",
       "pH                  0\n",
       "Zn                  0\n",
       "Cu                  0\n",
       "Fe                  0\n",
       "Ca                  0\n",
       "Mg                  0\n",
       "Na                  0\n",
       "dtype: int64"
      ]
     },
     "execution_count": 23,
     "metadata": {},
     "output_type": "execute_result"
    }
   ],
   "source": [
    "soil_data= pd.DataFrame(transformed_values,columns=column_names)\n",
    "soil_data.isna().sum()"
   ]
  },
  {
   "cell_type": "markdown",
   "metadata": {
    "id": "nAxvrDv_ZlUt"
   },
   "source": [
    "<h1>Saving the Preprocessed Data set</h1>"
   ]
  },
  {
   "cell_type": "code",
   "execution_count": 24,
   "metadata": {
    "id": "NBRo6k_yZr5E"
   },
   "outputs": [],
   "source": [
    "soil_data.to_csv(r'processed_data_set.csv', index=False)"
   ]
  },
  {
   "cell_type": "code",
   "execution_count": 25,
   "metadata": {
    "colab": {
     "base_uri": "https://localhost:8080/"
    },
    "id": "3A0Ee_dHDHkM",
    "outputId": "cfc70ffa-9693-48a9-9642-24f78e221b65"
   },
   "outputs": [
    {
     "name": "stdout",
     "output_type": "stream",
     "text": [
      "Vegetation Cover     1.00\n",
      "NO3                  0.25\n",
      "NH4                  0.25\n",
      "P                   10.00\n",
      "K                    4.00\n",
      "SO4                  4.00\n",
      "B                    0.07\n",
      "Organic Matter       0.01\n",
      "pH                   7.40\n",
      "Zn                   0.10\n",
      "Cu                   0.10\n",
      "Fe                   1.00\n",
      "Ca                   4.20\n",
      "Mg                   0.30\n",
      "Na                   0.03\n",
      "dtype: float64\n"
     ]
    }
   ],
   "source": [
    "# printing minimum values for each column in the dataset\n",
    "min_values=soil_data.min()\n",
    "print(min_values)"
   ]
  },
  {
   "cell_type": "code",
   "execution_count": 26,
   "metadata": {
    "colab": {
     "base_uri": "https://localhost:8080/"
    },
    "id": "j0UNb1L2DzVK",
    "outputId": "9c59cf85-c542-44a9-838a-8a5e410b22a4"
   },
   "outputs": [
    {
     "name": "stdout",
     "output_type": "stream",
     "text": [
      "Vegetation Cover    100.00\n",
      "NO3                 633.75\n",
      "NH4                  14.25\n",
      "P                   171.00\n",
      "K                   164.00\n",
      "SO4                 258.00\n",
      "B                    17.46\n",
      "Organic Matter        4.46\n",
      "pH                    8.80\n",
      "Zn                   10.00\n",
      "Cu                    1.30\n",
      "Fe                    4.00\n",
      "Ca                   12.50\n",
      "Mg                    6.30\n",
      "Na                    8.22\n",
      "dtype: float64\n"
     ]
    }
   ],
   "source": [
    "# printing maximum values for each column in the dataset\n",
    "max_values=soil_data.max()\n",
    "print(max_values)"
   ]
  },
  {
   "cell_type": "markdown",
   "metadata": {
    "id": "PuBX-3zaiLMk"
   },
   "source": [
    "<h1>Data Visualization</h1>"
   ]
  },
  {
   "cell_type": "code",
   "execution_count": 27,
   "metadata": {
    "colab": {
     "base_uri": "https://localhost:8080/",
     "height": 1000
    },
    "id": "2gEiiIzAiPzE",
    "outputId": "d9a4eeba-c302-467e-9210-c4328653211c"
   },
   "outputs": [
    {
     "name": "stderr",
     "output_type": "stream",
     "text": [
      "C:\\Users\\SWARNA LATHA\\anaconda3\\Lib\\site-packages\\seaborn\\axisgrid.py:118: UserWarning: The figure layout has changed to tight\n",
      "  self._figure.tight_layout(*args, **kwargs)\n"
     ]
    },
    {
     "data": {
      "image/png": "[encoded data removed]",
      "text/plain": [
       "<Figure size 1250x250 with 5 Axes>"
      ]
     },
     "metadata": {},
     "output_type": "display_data"
    },
    {
     "name": "stderr",
     "output_type": "stream",
     "text": [
      "C:\\Users\\SWARNA LATHA\\anaconda3\\Lib\\site-packages\\seaborn\\axisgrid.py:118: UserWarning: The figure layout has changed to tight\n",
      "  self._figure.tight_layout(*args, **kwargs)\n"
     ]
    },
    {
     "data": {
      "image/png": "[encoded data removed]",
      "text/plain": [
       "<Figure size 1250x250 with 5 Axes>"
      ]
     },
     "metadata": {},
     "output_type": "display_data"
    },
    {
     "name": "stderr",
     "output_type": "stream",
     "text": [
      "C:\\Users\\SWARNA LATHA\\anaconda3\\Lib\\site-packages\\seaborn\\axisgrid.py:118: UserWarning: The figure layout has changed to tight\n",
      "  self._figure.tight_layout(*args, **kwargs)\n"
     ]
    },
    {
     "data": {
      "image/png": "[encoded data removed]",
      "text/plain": [
       "<Figure size 1000x250 with 4 Axes>"
      ]
     },
     "metadata": {},
     "output_type": "display_data"
    },
    {
     "data": {
      "text/plain": [
       "<Axes: >"
      ]
     },
     "execution_count": 27,
     "metadata": {},
     "output_type": "execute_result"
    },
    {
     "data": {
      "image/png": "[encoded data removed]",
      "text/plain": [
       "<Figure size 1000x800 with 2 Axes>"
      ]
     },
     "metadata": {},
     "output_type": "display_data"
    }
   ],
   "source": [
    "import seaborn as sns\n",
    "\n",
    "#pair plots\n",
    "pairplot1 = sns.pairplot(soil_data,x_vars=soil_data.columns[1:6],y_vars=['Vegetation Cover'])\n",
    "plt.show()\n",
    "\n",
    "pairplot2 = sns.pairplot(soil_data,x_vars=soil_data.columns[6:11],y_vars=['Vegetation Cover'])\n",
    "plt.show()\n",
    "\n",
    "pairplot3 = sns.pairplot(soil_data,x_vars=soil_data.columns[11:15],y_vars=['Vegetation Cover'])\n",
    "plt.show()\n",
    "\n",
    "# getting coeralation values\n",
    "values = soil_data.corr()\n",
    "# plotting values\n",
    "plt.figure(figsize=(10,8))\n",
    "sns.heatmap(values,annot=False)"
   ]
  },
  {
   "cell_type": "markdown",
   "metadata": {
    "id": "bzBA9JN_D_Hq"
   },
   "source": [
    "<h1>Visualizing result of corelation matrix</h1>"
   ]
  },
  {
   "cell_type": "markdown",
   "metadata": {
    "id": "QGuWObTdERES"
   },
   "source": [
    "It is clear from above matrix that Vegetation Cover is highly depends on pH."
   ]
  },
  {
   "cell_type": "markdown",
   "metadata": {
    "id": "062YdtbgNTyY"
   },
   "source": [
    " <h1>Reading processed data</h1>"
   ]
  },
  {
   "cell_type": "code",
   "execution_count": 28,
   "metadata": {
    "colab": {
     "base_uri": "https://localhost:8080/"
    },
    "id": "_gKHmUraNUlO",
    "outputId": "566a7efe-743f-458c-8eed-eeea879bde90"
   },
   "outputs": [
    {
     "name": "stdout",
     "output_type": "stream",
     "text": [
      "     NO3   NH4      P     K   SO4     B  Organic Matter   pH   Zn   Cu   Fe  \\\n",
      "0  23.00  2.25  101.0  32.0  12.0  0.71            0.96  7.8  1.7  0.3  4.0   \n",
      "1   6.00  0.75   58.0  10.0   7.0  0.27            0.30  8.2  0.8  0.1  1.0   \n",
      "2   7.25  1.00  115.0   8.0  10.0  0.56            0.62  7.9  1.4  0.2  2.0   \n",
      "3  21.00  1.25  130.0  30.0  13.0  0.78            1.04  7.9  1.8  0.3  2.0   \n",
      "4   1.75  0.50   17.0   4.0   6.0  0.25            0.10  8.8  0.3  0.1  1.0   \n",
      "5   2.00  0.75   40.0   8.0   6.0  0.24            0.22  8.3  0.9  0.1  1.0   \n",
      "6   1.50  0.25   21.0  12.0   5.0  0.20            0.08  8.7  0.3  0.1  1.0   \n",
      "7  14.75  0.75   53.0  12.0   8.0  0.18            0.41  8.3  0.8  0.1  1.0   \n",
      "8  12.75  2.00   72.0  15.0  10.0  0.64            0.45  8.0  1.2  0.2  2.0   \n",
      "9  18.50  1.75   47.0  21.0   7.0  0.29            0.28  8.3  0.6  0.1  1.0   \n",
      "\n",
      "    Ca   Mg    Na  \n",
      "0  6.6  0.8  0.12  \n",
      "1  5.0  0.5  0.07  \n",
      "2  5.2  0.4  0.04  \n",
      "3  6.1  0.7  0.10  \n",
      "4  4.7  0.5  0.10  \n",
      "5  4.9  0.5  0.09  \n",
      "6  5.7  0.4  0.08  \n",
      "7  5.6  0.4  0.07  \n",
      "8  5.6  0.5  0.08  \n",
      "9  5.9  0.5  0.11  \n",
      "       NO3   NH4      P     K   SO4     B  Organic Matter   pH   Zn   Cu   Fe  \\\n",
      "0    23.00  2.25  101.0  32.0  12.0  0.71            0.96  7.8  1.7  0.3  4.0   \n",
      "1     6.00  0.75   58.0  10.0   7.0  0.27            0.30  8.2  0.8  0.1  1.0   \n",
      "2     7.25  1.00  115.0   8.0  10.0  0.56            0.62  7.9  1.4  0.2  2.0   \n",
      "3    21.00  1.25  130.0  30.0  13.0  0.78            1.04  7.9  1.8  0.3  2.0   \n",
      "4     1.75  0.50   17.0   4.0   6.0  0.25            0.10  8.8  0.3  0.1  1.0   \n",
      "..     ...   ...    ...   ...   ...   ...             ...  ...  ...  ...  ...   \n",
      "403  16.50  1.25   61.0  21.0   9.0  0.37            0.64  7.8  0.9  0.2  1.0   \n",
      "404   8.00  2.25   61.0   7.0   6.0  0.28            0.82  8.0  0.8  0.2  1.0   \n",
      "405   3.75  1.25   51.0   5.0   5.0  0.14            0.54  8.2  0.4  0.1  1.0   \n",
      "406  14.25  1.00   48.0   6.0   4.0  0.14            0.36  8.2  0.4  0.1  1.0   \n",
      "407  14.25  0.25   59.0  14.0   7.0  0.16            0.26  8.1  0.5  0.1  1.0   \n",
      "\n",
      "      Ca   Mg    Na  \n",
      "0    6.6  0.8  0.12  \n",
      "1    5.0  0.5  0.07  \n",
      "2    5.2  0.4  0.04  \n",
      "3    6.1  0.7  0.10  \n",
      "4    4.7  0.5  0.10  \n",
      "..   ...  ...   ...  \n",
      "403  4.9  0.4  0.12  \n",
      "404  5.1  0.3  0.10  \n",
      "405  5.0  0.3  0.09  \n",
      "406  5.2  0.3  0.07  \n",
      "407  5.4  0.3  0.04  \n",
      "\n",
      "[408 rows x 14 columns]\n",
      "[0.0359116  0.14285714 0.56521739 0.175      0.03149606 0.03680276\n",
      " 0.21348315 0.28571429 0.16161616 0.16666667 1.         0.28915663\n",
      " 0.08333333 0.01098901]\n"
     ]
    }
   ],
   "source": [
    "import pandas as pd\n",
    "import numpy as np\n",
    "\n",
    "\n",
    "X, Y = soil_data[soil_data.columns[1:]], soil_data['Vegetation Cover']\n",
    "\n",
    "\n",
    "print(X[:10])\n",
    "print(X)\n",
    "# Normalizing data\n",
    "from sklearn.preprocessing import MinMaxScaler\n",
    "\n",
    "scaler = MinMaxScaler()\n",
    "X, Y = scaler.fit_transform(X.values), scaler.fit_transform(Y.values.reshape(-1,1))\n",
    "print(X[0])"
   ]
  },
  {
   "cell_type": "markdown",
   "metadata": {
    "id": "8JuCGIOykT8n"
   },
   "source": [
    "<h1>Implementing ML models</h1>"
   ]
  },
  {
   "cell_type": "markdown",
   "metadata": {
    "id": "SaDnabMNkXeR"
   },
   "source": [
    "<h3>Useful functions to implement a general model</h3>"
   ]
  },
  {
   "cell_type": "code",
   "execution_count": 29,
   "metadata": {
    "id": "irT96MsqkeHr"
   },
   "outputs": [],
   "source": [
    "from sklearn.metrics import r2_score\n",
    "\n",
    "def train(model, X, Y):\n",
    "    model.fit(X,Y)\n",
    "    return model\n",
    "\n",
    "def print_metrics(model, X, Y):\n",
    "    \n",
    "    # predicted test data\n",
    "    y_pred = model.predict(X)\n",
    "    \n",
    "    # Mean square Error\n",
    "    mean_square_error = np.sum((y_pred-Y)**2)/len(y_pred)\n",
    "    print('Mean Square Error : ', mean_square_error)\n",
    "    \n",
    "    # Root Mean Square Error\n",
    "    print('Root Mean Square Error : ', mean_square_error**0.5)\n",
    "    \n",
    "    # Mean absolute Error\n",
    "    print('Mean Absolute Error : ', np.abs(Y - y_pred).sum()/len(y_pred))\n",
    "    \n",
    "    # R2 Score\n",
    "    print('R2 Score : ', r2_score(Y, y_pred))\n",
    "\n",
    "    print('Accuracy : ',model.score(X,Y))\n",
    "    "
   ]
  },
  {
   "cell_type": "markdown",
   "metadata": {
    "id": "9eF_c1pPkz98"
   },
   "source": [
    "<h3>Spliting data into train and test set</h3>"
   ]
  },
  {
   "cell_type": "code",
   "execution_count": 30,
   "metadata": {
    "colab": {
     "base_uri": "https://localhost:8080/"
    },
    "id": "BpP5Jzlmk3x5",
    "outputId": "d462d16a-581e-43cb-bc1c-e78009affa1f"
   },
   "outputs": [
    {
     "name": "stdout",
     "output_type": "stream",
     "text": [
      "[[0.04143646 0.17857143 0.33540373 ... 0.18072289 0.01666667 0.002442  ]\n",
      " [0.24309392 0.60714286 0.69565217 ... 0.39759036 0.91666667 0.87545788]\n",
      " [0.37963694 0.85714286 0.57763975 ... 0.3253012  0.1        0.05494505]\n",
      " ...\n",
      " [0.04459353 0.46428571 0.52795031 ... 0.18072289 0.03333333 0.01098901]\n",
      " [0.02209945 0.         0.30434783 ... 0.14457831 0.         0.001221  ]\n",
      " [0.06156275 0.10714286 0.26086957 ... 0.15662651 0.03333333 0.00610501]]\n"
     ]
    }
   ],
   "source": [
    "from sklearn.model_selection import train_test_split\n",
    "\n",
    "X_train, X_test, Y_train, Y_test = train_test_split(X,Y, test_size=0.10, random_state=43)\n",
    "print(X_train)"
   ]
  },
  {
   "cell_type": "markdown",
   "metadata": {
    "id": "Sdi6aHPLU8Sf"
   },
   "source": [
    "<h2>Implement Linear Model</h2>\n"
   ]
  },
  {
   "cell_type": "code",
   "execution_count": 31,
   "metadata": {
    "colab": {
     "base_uri": "https://localhost:8080/"
    },
    "id": "TouhUlneVDKY",
    "outputId": "348982ec-a08e-4fe1-cf33-052aa6cfec0d"
   },
   "outputs": [
    {
     "name": "stdout",
     "output_type": "stream",
     "text": [
      "Mean Square Error :  0.0740842233969768\n",
      "Root Mean Square Error :  0.27218417183403004\n",
      "Mean Absolute Error :  0.24048485075694284\n",
      "R2 Score :  0.12946778762096378\n",
      "Accuracy :  0.12946778762096378\n"
     ]
    }
   ],
   "source": [
    "from sklearn.linear_model import LinearRegression\n",
    "linearModel = LinearRegression()\n",
    "\n",
    "# training\n",
    "linearModel = train(linearModel,X_train,Y_train)\n",
    "\n",
    "#print metrics\n",
    "print_metrics(linearModel, X_test, Y_test)\n",
    "\n",
    "\n",
    "with open('Linear Model','wb') as f:\n",
    "  pickle.dump(linearModel,f)"
   ]
  },
  {
   "cell_type": "markdown",
   "metadata": {
    "id": "iirdUqnao12j"
   },
   "source": [
    "<h2>Implement SVR</h2>"
   ]
  },
  {
   "cell_type": "code",
   "execution_count": 32,
   "metadata": {
    "colab": {
     "base_uri": "https://localhost:8080/"
    },
    "id": "MchBr1RQpDnu",
    "outputId": "ae7498fc-873e-4119-96d5-126fc37a2046"
   },
   "outputs": [
    {
     "name": "stdout",
     "output_type": "stream",
     "text": [
      "Kernel : Linear\n",
      "Mean Square Error :  3.9146965762937063\n",
      "Root Mean Square Error :  1.9785592172825424\n",
      "Mean Absolute Error :  10.812898203435255\n",
      "R2 Score :  0.15188006750762917\n",
      "Accuracy :  0.15188006750762917\n",
      "\n",
      "\n",
      "Kernel : RBF\n",
      "Mean Square Error :  5.036412097675743\n",
      "Root Mean Square Error :  2.2441952004395125\n",
      "Mean Absolute Error :  11.886458301181872\n",
      "R2 Score :  0.6495462568654107\n",
      "Accuracy :  0.6495462568654107\n",
      "\n",
      "\n",
      "Kernel : Poly\n"
     ]
    },
    {
     "name": "stderr",
     "output_type": "stream",
     "text": [
      "C:\\Users\\SWARNA LATHA\\anaconda3\\Lib\\site-packages\\sklearn\\utils\\validation.py:1184: DataConversionWarning: A column-vector y was passed when a 1d array was expected. Please change the shape of y to (n_samples, ), for example using ravel().\n",
      "  y = column_or_1d(y, warn=True)\n",
      "C:\\Users\\SWARNA LATHA\\anaconda3\\Lib\\site-packages\\sklearn\\utils\\validation.py:1184: DataConversionWarning: A column-vector y was passed when a 1d array was expected. Please change the shape of y to (n_samples, ), for example using ravel().\n",
      "  y = column_or_1d(y, warn=True)\n",
      "C:\\Users\\SWARNA LATHA\\anaconda3\\Lib\\site-packages\\sklearn\\utils\\validation.py:1184: DataConversionWarning: A column-vector y was passed when a 1d array was expected. Please change the shape of y to (n_samples, ), for example using ravel().\n",
      "  y = column_or_1d(y, warn=True)\n"
     ]
    },
    {
     "name": "stdout",
     "output_type": "stream",
     "text": [
      "Mean Square Error :  5.831854947710405\n",
      "Root Mean Square Error :  2.414923383403789\n",
      "Mean Absolute Error :  12.544315066255677\n",
      "R2 Score :  0.2260083232898782\n",
      "Accuracy :  0.2260083232898782\n"
     ]
    }
   ],
   "source": [
    "from sklearn.svm import SVR\n",
    "\n",
    "\n",
    "# linear Model\n",
    "svr_linear = SVR(kernel='linear', C=10, epsilon=0.4)\n",
    "\n",
    "# RBF kernel\n",
    "svr_rbf = SVR(kernel='rbf', C=10, gamma=1)\n",
    "\n",
    "# non-linear model\n",
    "\n",
    "svr_poly = SVR(kernel='poly', degree=2, C=650, epsilon=0.3)\n",
    "\n",
    "\n",
    "print('Kernel : Linear')\n",
    "svr_linear = train(svr_linear,X_train,Y_train)\n",
    "print_metrics(svr_linear, X_test, Y_test)\n",
    "\n",
    "with open('SVR (Linear)','wb') as f:\n",
    "  pickle.dump(svr_linear,f)\n",
    "\n",
    "print('\\n')\n",
    "print('Kernel : RBF')\n",
    "svr_rbf = train(svr_rbf,X_train,Y_train)\n",
    "print_metrics(svr_rbf, X_test, Y_test)\n",
    "\n",
    "with open('SVR (RBF)','wb') as f:\n",
    "  pickle.dump(svr_rbf,f)\n",
    "\n",
    "print(\"\\n\")\n",
    "print('Kernel : Poly')\n",
    "svr_poly = train(svr_poly,X_train,Y_train)\n",
    "print_metrics(svr_poly, X_test, Y_test)\n",
    "\n",
    "with open('SVR (Poly)','wb') as f:\n",
    "  pickle.dump(svr_poly,f)"
   ]
  },
  {
   "cell_type": "markdown",
   "metadata": {
    "id": "LQtAFGPMnflo"
   },
   "source": [
    "<h2>DecisionTreeRegressor</h2>"
   ]
  },
  {
   "cell_type": "code",
   "execution_count": 36,
   "metadata": {},
   "outputs": [],
   "source": [
    "# pip install pydotplus"
   ]
  },
  {
   "cell_type": "code",
   "execution_count": 39,
   "metadata": {
    "colab": {
     "base_uri": "https://localhost:8080/"
    },
    "id": "ZYP1UMwWcadj",
    "outputId": "2704536d-1d06-443c-ba7a-d7add8bdce92"
   },
   "outputs": [
    {
     "name": "stdout",
     "output_type": "stream",
     "text": [
      "Mean Square Error :  6.701650981317542\n",
      "Root Mean Square Error :  2.588754716329367\n",
      "Mean Absolute Error :  13.539764949649797\n",
      "R2 Score :  0.70495855824718\n",
      "Accuracy :  0.70495855824718\n"
     ]
    }
   ],
   "source": [
    "from sklearn.tree import export_graphviz\n",
    "import pydotplus\n",
    "from sklearn.tree import DecisionTreeRegressor\n",
    "\n",
    "treeRegressor = DecisionTreeRegressor(criterion='friedman_mse', max_depth=8, min_samples_leaf=5)\n",
    "\n",
    "#training\n",
    "treeRegressor = train(treeRegressor, X_train, Y_train)\n",
    "\n",
    "#print metrics\n",
    "print_metrics(treeRegressor, X_test, Y_test)\n",
    "#print(export_graphviz(treeRegressor))\n",
    "with open('Decision Tree Regression','wb') as f:\n",
    "  pickle.dump(treeRegressor,f)"
   ]
  },
  {
   "cell_type": "markdown",
   "metadata": {
    "id": "R88EyhsHTpNw"
   },
   "source": [
    "<h2>Implement Random Forest Regressor</h2>"
   ]
  },
  {
   "cell_type": "code",
   "execution_count": 38,
   "metadata": {
    "colab": {
     "base_uri": "https://localhost:8080/"
    },
    "id": "EQEgbkYBTp5T",
    "outputId": "14317db6-3d4e-4bb1-c0ad-7d52aed260db"
   },
   "outputs": [
    {
     "ename": "InvalidParameterError",
     "evalue": "The 'criterion' parameter of RandomForestRegressor must be a str among {'friedman_mse', 'poisson', 'squared_error', 'absolute_error'}. Got 'mse' instead.",
     "output_type": "error",
     "traceback": [
      "\u001b[1;31m---------------------------------------------------------------------------\u001b[0m",
      "\u001b[1;31mInvalidParameterError\u001b[0m                     Traceback (most recent call last)",
      "Cell \u001b[1;32mIn[38], line 6\u001b[0m\n\u001b[0;32m      3\u001b[0m forestRegressor \u001b[38;5;241m=\u001b[39m RandomForestRegressor(criterion\u001b[38;5;241m=\u001b[39m\u001b[38;5;124m'\u001b[39m\u001b[38;5;124mmse\u001b[39m\u001b[38;5;124m'\u001b[39m, max_depth\u001b[38;5;241m=\u001b[39m\u001b[38;5;241m8\u001b[39m, n_estimators\u001b[38;5;241m=\u001b[39m\u001b[38;5;241m10\u001b[39m, random_state\u001b[38;5;241m=\u001b[39m\u001b[38;5;241m0\u001b[39m)\n\u001b[0;32m      5\u001b[0m \u001b[38;5;66;03m#training \u001b[39;00m\n\u001b[1;32m----> 6\u001b[0m forestRegressor \u001b[38;5;241m=\u001b[39m train(forestRegressor, X_train, Y_train)\n\u001b[0;32m      7\u001b[0m \u001b[38;5;66;03m#print metrics\u001b[39;00m\n\u001b[0;32m      8\u001b[0m print_metrics(forestRegressor, X_test, Y_test)\n",
      "Cell \u001b[1;32mIn[29], line 4\u001b[0m, in \u001b[0;36mtrain\u001b[1;34m(model, X, Y)\u001b[0m\n\u001b[0;32m      3\u001b[0m \u001b[38;5;28;01mdef\u001b[39;00m \u001b[38;5;21mtrain\u001b[39m(model, X, Y):\n\u001b[1;32m----> 4\u001b[0m     model\u001b[38;5;241m.\u001b[39mfit(X,Y)\n\u001b[0;32m      5\u001b[0m     \u001b[38;5;28;01mreturn\u001b[39;00m model\n",
      "File \u001b[1;32m~\\anaconda3\\Lib\\site-packages\\sklearn\\base.py:1144\u001b[0m, in \u001b[0;36m_fit_context.<locals>.decorator.<locals>.wrapper\u001b[1;34m(estimator, *args, **kwargs)\u001b[0m\n\u001b[0;32m   1139\u001b[0m partial_fit_and_fitted \u001b[38;5;241m=\u001b[39m (\n\u001b[0;32m   1140\u001b[0m     fit_method\u001b[38;5;241m.\u001b[39m\u001b[38;5;18m__name__\u001b[39m \u001b[38;5;241m==\u001b[39m \u001b[38;5;124m\"\u001b[39m\u001b[38;5;124mpartial_fit\u001b[39m\u001b[38;5;124m\"\u001b[39m \u001b[38;5;129;01mand\u001b[39;00m _is_fitted(estimator)\n\u001b[0;32m   1141\u001b[0m )\n\u001b[0;32m   1143\u001b[0m \u001b[38;5;28;01mif\u001b[39;00m \u001b[38;5;129;01mnot\u001b[39;00m global_skip_validation \u001b[38;5;129;01mand\u001b[39;00m \u001b[38;5;129;01mnot\u001b[39;00m partial_fit_and_fitted:\n\u001b[1;32m-> 1144\u001b[0m     estimator\u001b[38;5;241m.\u001b[39m_validate_params()\n\u001b[0;32m   1146\u001b[0m \u001b[38;5;28;01mwith\u001b[39;00m config_context(\n\u001b[0;32m   1147\u001b[0m     skip_parameter_validation\u001b[38;5;241m=\u001b[39m(\n\u001b[0;32m   1148\u001b[0m         prefer_skip_nested_validation \u001b[38;5;129;01mor\u001b[39;00m global_skip_validation\n\u001b[0;32m   1149\u001b[0m     )\n\u001b[0;32m   1150\u001b[0m ):\n\u001b[0;32m   1151\u001b[0m     \u001b[38;5;28;01mreturn\u001b[39;00m fit_method(estimator, \u001b[38;5;241m*\u001b[39margs, \u001b[38;5;241m*\u001b[39m\u001b[38;5;241m*\u001b[39mkwargs)\n",
      "File \u001b[1;32m~\\anaconda3\\Lib\\site-packages\\sklearn\\base.py:637\u001b[0m, in \u001b[0;36mBaseEstimator._validate_params\u001b[1;34m(self)\u001b[0m\n\u001b[0;32m    629\u001b[0m \u001b[38;5;28;01mdef\u001b[39;00m \u001b[38;5;21m_validate_params\u001b[39m(\u001b[38;5;28mself\u001b[39m):\n\u001b[0;32m    630\u001b[0m \u001b[38;5;250m    \u001b[39m\u001b[38;5;124;03m\"\"\"Validate types and values of constructor parameters\u001b[39;00m\n\u001b[0;32m    631\u001b[0m \n\u001b[0;32m    632\u001b[0m \u001b[38;5;124;03m    The expected type and values must be defined in the `_parameter_constraints`\u001b[39;00m\n\u001b[1;32m   (...)\u001b[0m\n\u001b[0;32m    635\u001b[0m \u001b[38;5;124;03m    accepted constraints.\u001b[39;00m\n\u001b[0;32m    636\u001b[0m \u001b[38;5;124;03m    \"\"\"\u001b[39;00m\n\u001b[1;32m--> 637\u001b[0m     validate_parameter_constraints(\n\u001b[0;32m    638\u001b[0m         \u001b[38;5;28mself\u001b[39m\u001b[38;5;241m.\u001b[39m_parameter_constraints,\n\u001b[0;32m    639\u001b[0m         \u001b[38;5;28mself\u001b[39m\u001b[38;5;241m.\u001b[39mget_params(deep\u001b[38;5;241m=\u001b[39m\u001b[38;5;28;01mFalse\u001b[39;00m),\n\u001b[0;32m    640\u001b[0m         caller_name\u001b[38;5;241m=\u001b[39m\u001b[38;5;28mself\u001b[39m\u001b[38;5;241m.\u001b[39m\u001b[38;5;18m__class__\u001b[39m\u001b[38;5;241m.\u001b[39m\u001b[38;5;18m__name__\u001b[39m,\n\u001b[0;32m    641\u001b[0m     )\n",
      "File \u001b[1;32m~\\anaconda3\\Lib\\site-packages\\sklearn\\utils\\_param_validation.py:95\u001b[0m, in \u001b[0;36mvalidate_parameter_constraints\u001b[1;34m(parameter_constraints, params, caller_name)\u001b[0m\n\u001b[0;32m     89\u001b[0m \u001b[38;5;28;01melse\u001b[39;00m:\n\u001b[0;32m     90\u001b[0m     constraints_str \u001b[38;5;241m=\u001b[39m (\n\u001b[0;32m     91\u001b[0m         \u001b[38;5;124mf\u001b[39m\u001b[38;5;124m\"\u001b[39m\u001b[38;5;132;01m{\u001b[39;00m\u001b[38;5;124m'\u001b[39m\u001b[38;5;124m, \u001b[39m\u001b[38;5;124m'\u001b[39m\u001b[38;5;241m.\u001b[39mjoin([\u001b[38;5;28mstr\u001b[39m(c)\u001b[38;5;250m \u001b[39m\u001b[38;5;28;01mfor\u001b[39;00m\u001b[38;5;250m \u001b[39mc\u001b[38;5;250m \u001b[39m\u001b[38;5;129;01min\u001b[39;00m\u001b[38;5;250m \u001b[39mconstraints[:\u001b[38;5;241m-\u001b[39m\u001b[38;5;241m1\u001b[39m]])\u001b[38;5;132;01m}\u001b[39;00m\u001b[38;5;124m or\u001b[39m\u001b[38;5;124m\"\u001b[39m\n\u001b[0;32m     92\u001b[0m         \u001b[38;5;124mf\u001b[39m\u001b[38;5;124m\"\u001b[39m\u001b[38;5;124m \u001b[39m\u001b[38;5;132;01m{\u001b[39;00mconstraints[\u001b[38;5;241m-\u001b[39m\u001b[38;5;241m1\u001b[39m]\u001b[38;5;132;01m}\u001b[39;00m\u001b[38;5;124m\"\u001b[39m\n\u001b[0;32m     93\u001b[0m     )\n\u001b[1;32m---> 95\u001b[0m \u001b[38;5;28;01mraise\u001b[39;00m InvalidParameterError(\n\u001b[0;32m     96\u001b[0m     \u001b[38;5;124mf\u001b[39m\u001b[38;5;124m\"\u001b[39m\u001b[38;5;124mThe \u001b[39m\u001b[38;5;132;01m{\u001b[39;00mparam_name\u001b[38;5;132;01m!r}\u001b[39;00m\u001b[38;5;124m parameter of \u001b[39m\u001b[38;5;132;01m{\u001b[39;00mcaller_name\u001b[38;5;132;01m}\u001b[39;00m\u001b[38;5;124m must be\u001b[39m\u001b[38;5;124m\"\u001b[39m\n\u001b[0;32m     97\u001b[0m     \u001b[38;5;124mf\u001b[39m\u001b[38;5;124m\"\u001b[39m\u001b[38;5;124m \u001b[39m\u001b[38;5;132;01m{\u001b[39;00mconstraints_str\u001b[38;5;132;01m}\u001b[39;00m\u001b[38;5;124m. Got \u001b[39m\u001b[38;5;132;01m{\u001b[39;00mparam_val\u001b[38;5;132;01m!r}\u001b[39;00m\u001b[38;5;124m instead.\u001b[39m\u001b[38;5;124m\"\u001b[39m\n\u001b[0;32m     98\u001b[0m )\n",
      "\u001b[1;31mInvalidParameterError\u001b[0m: The 'criterion' parameter of RandomForestRegressor must be a str among {'friedman_mse', 'poisson', 'squared_error', 'absolute_error'}. Got 'mse' instead."
     ]
    }
   ],
   "source": [
    "from sklearn.ensemble import RandomForestRegressor\n",
    "\n",
    "forestRegressor = RandomForestRegressor(criterion='friedman_mse', max_depth=8, n_estimators=10, random_state=0)\n",
    "\n",
    "#training \n",
    "forestRegressor = train(forestRegressor, X_train, Y_train)\n",
    "#print metrics\n",
    "print_metrics(forestRegressor, X_test, Y_test)\n",
    "\n",
    "with open('Random Forest Regression','wb') as f:\n",
    "  pickle.dump(forestRegressor,f)\n"
   ]
  },
  {
   "cell_type": "markdown",
   "metadata": {
    "id": "0NWinTf__pzx"
   },
   "source": [
    "**<h1>Results**\n",
    "<h3>The above models worked differently, the order of their performance is given below (top-to-bottom i.e high-to-low)</h3>\n",
    "\n",
    "1. Random Forest Regression\n",
    "\n",
    "\n",
    "2. Decision Tree Regression\n",
    "\n",
    "\n",
    "3. Support Vector Regression(RBF)\n",
    "\n",
    "\n",
    "4. Support Vector Regression(Poly)\n",
    "\n",
    "\n",
    "5. Support Vector Regression(Linear)\n",
    "\n",
    "\n",
    "6. Linear Regression\n"
   ]
  },
  {
   "cell_type": "code",
   "execution_count": null,
   "metadata": {},
   "outputs": [],
   "source": []
  },
  {
   "cell_type": "code",
   "execution_count": null,
   "metadata": {},
   "outputs": [],
   "source": []
  },
  {
   "cell_type": "code",
   "execution_count": null,
   "metadata": {},
   "outputs": [],
   "source": []
  }
 ],
 "metadata": {
  "colab": {
   "collapsed_sections": [],
   "name": "Soil_Fertility_Prediction.ipynb",
   "provenance": []
  },
  "kernelspec": {
   "display_name": "Python 3 (ipykernel)",
   "language": "python",
   "name": "python3"
  },
  "language_info": {
   "codemirror_mode": {
    "name": "ipython",
    "version": 3
   },
   "file_extension": ".py",
   "mimetype": "text/x-python",
   "name": "python",
   "nbconvert_exporter": "python",
   "pygments_lexer": "ipython3",
   "version": "3.11.5"
  }
 },
 "nbformat": 4,
 "nbformat_minor": 1
}
